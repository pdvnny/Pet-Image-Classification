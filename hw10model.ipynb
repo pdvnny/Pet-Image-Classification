{
 "cells": [
  {
   "cell_type": "markdown",
   "id": "adc73b63-88af-4855-a14d-d29704cfad48",
   "metadata": {},
   "source": [
    "### Parker Dunn\n",
    "\n",
    "## EK 381 - HW 10 - Optional Competition\n",
    "\n",
    "### DUE: December 3rd, 2021"
   ]
  },
  {
   "cell_type": "code",
   "execution_count": 47,
   "id": "f820d209-a1e2-4ee7-b648-e993bd8f5d4f",
   "metadata": {},
   "outputs": [],
   "source": [
    "# Import Necessary Modules\n",
    "\n",
    "import glob\n",
    "import matplotlib.pyplot as plt \n",
    "from skimage import io\n",
    "import numpy as np\n",
    "%matplotlib inline\n",
    "\n",
    "# Imports for TensorFlow\n",
    "from tensorflow.keras import Sequential\n",
    "from tensorflow.keras.layers import Dense\n",
    "from tensorflow.keras.layers import Dropout\n",
    "from tensorflow.keras.utils import plot_model\n",
    "from tensorflow.keras.optimizers import SGD\n",
    "\n",
    "# MY IMPORTS\n",
    "import math\n",
    "\n",
    "import json\n",
    "from datetime import datetime\n",
    "from datetime import date"
   ]
  },
  {
   "cell_type": "markdown",
   "id": "7ad7cec1-7293-4c7d-9627-2a57a4eb9087",
   "metadata": {},
   "source": [
    "### `read_data()` - copied from assignment to get the data into this script"
   ]
  },
  {
   "cell_type": "code",
   "execution_count": 48,
   "id": "60307cf7-7f09-436c-b15b-a89fbc35afcb",
   "metadata": {},
   "outputs": [],
   "source": [
    "#This function reads in all n images in catsfolder/ and dogsfolder/. \n",
    "#Each 64 x 64 image is reshaped into a length-4096 row vector. \n",
    "#These row vectors are stacked on top of one another to get a data matrix\n",
    "#X of size n x 4096. We also generate a -1 label if the row vector corresponds\n",
    "#to a cat image and a +1 label if the row vector corresponds to a dog image\n",
    "#and stack these on top of one another to get a label vector y of length n.\n",
    "\n",
    "def read_data():\n",
    "    \n",
    "    # get image filenames\n",
    "    cat_locs = glob.glob('petdataset/catsfolder/*.jpg')\n",
    "    dog_locs = glob.glob('petdataset/dogsfolder/*.jpg')\n",
    "    num_cats = len(cat_locs)\n",
    "    num_dogs = len(dog_locs)\n",
    "    \n",
    "    # initialize empty arrays\n",
    "    X_cats = np.zeros((num_cats,64*64))\n",
    "    X_dogs = np.zeros((num_dogs,64*64))\n",
    "    y_cats = np.zeros((num_cats,1))\n",
    "    y_dogs = np.zeros((num_dogs,1))\n",
    "              \n",
    "    #Load data, reshape into a 1D vector and set labels\n",
    "    \n",
    "    keep_track = 0\n",
    "\n",
    "    for i in range(num_cats):\n",
    "        img = cat_locs[i]\n",
    "        im = io.imread(img)\n",
    "        im = im.reshape(64*64)\n",
    "        X_cats[i,:] = im\n",
    "        y_cats[i] = -1.0\n",
    "        keep_track += 1\n",
    "\n",
    "    for i in range(num_dogs):\n",
    "        img = dog_locs[i]\n",
    "        im = io.imread(img)\n",
    "        im = im.reshape(64*64)\n",
    "        X_dogs[i,:] = im\n",
    "        y_dogs[i] = 1.0\n",
    "        keep_track += 1\n",
    "    \n",
    "    # combine both datasets\n",
    "    X = np.append(X_cats,X_dogs,0)\n",
    "    y = np.append(y_cats,y_dogs)\n",
    "    \n",
    "    return X, y"
   ]
  },
  {
   "cell_type": "code",
   "execution_count": 49,
   "id": "596f7f82-3bc0-4d0c-801c-39e523898c3b",
   "metadata": {},
   "outputs": [],
   "source": [
    "#This code implements the PCA exactly as in MATLAB so as to be consistent.\n",
    "#It takes in an n x d data matrix X and returns a d x d orthonormal matrix pcaX. \n",
    "#Each column of pcaX contains a basis vector, sorted by decreasing variance.\n",
    "\n",
    "def pca(X):\n",
    "    covX = np.cov(X,rowvar=False)\n",
    "    [Lambda,Vtranspose] = np.linalg.eig(covX)\n",
    "    neworder = np.argsort(-abs(Lambda))\n",
    "    pcaX = Vtranspose[:,neworder]\n",
    "    pcaX = pcaX.real\n",
    "\n",
    "    return pcaX"
   ]
  },
  {
   "cell_type": "markdown",
   "id": "0fdbd51a-f5ac-4b67-b760-bfff1ab442cc",
   "metadata": {},
   "source": [
    "### `split_data()` - copied from assignment to create testing data"
   ]
  },
  {
   "cell_type": "code",
   "execution_count": 50,
   "id": "4334b0c7-93c6-4a88-86c7-1640cbe03f06",
   "metadata": {},
   "outputs": [],
   "source": [
    "#This function takes in a data matrix X, label vector y, and \n",
    "#the desired percentage testpercent. It randomly assigns  \n",
    "#testpercent of the rows of X and y to Xtest and ytest. \n",
    "#The remaining data is assigned to Xtrain and ytrain.\n",
    "\n",
    "def split_data(X,y,testpercent):\n",
    "        \n",
    "    [n, d] = X.shape\n",
    "    \n",
    "    ntest = int(round(n*(float(testpercent)/100)))\n",
    "    ntrain = int(round(n - ntest))\n",
    "        \n",
    "    Xtrain = np.zeros((ntrain,d))\n",
    "    Xtest = np.zeros((ntest,d))\n",
    "    ytrain = np.zeros((ntrain,1))\n",
    "    ytest = np.zeros((ntest,1))   \n",
    "        \n",
    "    Data = np.column_stack((X,y))\n",
    "    Data = np.random.permutation(Data)\n",
    "    \n",
    "    for i in range(ntest):\n",
    "        Xtest[i,:] = Data[i,0:d]\n",
    "        ytest[i] = Data[i,d]\n",
    "        \n",
    "    for i in range(ntrain):\n",
    "        Xtrain[i,:] = Data[i+ntest,0:d]\n",
    "        ytrain[i] = Data[i+ntest,d]\n",
    "        \n",
    "    return Xtrain, ytrain, Xtest, ytest"
   ]
  },
  {
   "cell_type": "markdown",
   "id": "32727fcb-943d-4cf6-b1ef-fb2afc938f98",
   "metadata": {},
   "source": [
    "#### Using copied functions to prepare the data"
   ]
  },
  {
   "cell_type": "code",
   "execution_count": 51,
   "id": "faf50153-0af6-4e05-8c87-8853d2a69976",
   "metadata": {},
   "outputs": [],
   "source": [
    "# Read data from the image files\n",
    "X, y = read_data()\n",
    "\n",
    "# Splitting data into data for training and testing\n",
    "Xtrain, ytrain, Xtest, ytest = split_data(X,y,20)\n",
    "# 10% of the data reserved for testing"
   ]
  },
  {
   "cell_type": "markdown",
   "id": "9412b084-7461-4b17-b01d-6872cf866ffb",
   "metadata": {},
   "source": [
    "## `error_rate()` - copied from assignment for doing some assessment of manual testing"
   ]
  },
  {
   "cell_type": "code",
   "execution_count": 52,
   "id": "46e9caa4-56f9-4129-b069-f5bbff3f06df",
   "metadata": {},
   "outputs": [],
   "source": [
    "#This function takes in a vector of true labels ytrue\n",
    "#and a vector of guessed labels yguess and reports back\n",
    "#the error rate of the guesses as a percentage 0% to 100%.\n",
    "\n",
    "def error_rate(ytrue, yguess):\n",
    "    # compare your predictions with the correct labels to determine how many of your predictions were correct.\n",
    "    total = len(ytrue)\n",
    "    wrong = np.sum(np.not_equal(ytrue,yguess))\n",
    "    error = 100*wrong/total\n",
    "    # divide the number of correct predictions by the number of total samples to determine your classification accuracy.\n",
    "    return error"
   ]
  },
  {
   "cell_type": "markdown",
   "id": "969ce385-76d2-44ab-8c28-1b2c368eca31",
   "metadata": {},
   "source": [
    "## Developing a MLP Model with TensorFlow Keras API\n",
    "\n",
    "Notes\n",
    "* First part of the next step will be script for training the model\n",
    "* A separate function for pet classification will be created\n",
    "\n",
    "\n",
    "Problems:\n",
    "* If I am goint to use PCA to modify the data before passing to the model, how do I provide the mu_train so that the function can center the data before passing to the model?\n"
   ]
  },
  {
   "cell_type": "code",
   "execution_count": 63,
   "id": "adaf6e57-2521-47ee-bcd2-81bae9519997",
   "metadata": {},
   "outputs": [
    {
     "name": "stdout",
     "output_type": "stream",
     "text": [
      "[1. 1. 1. 1. 1. 1. 1. 1. 1. 0.]\n",
      "shape of Xtrain_reduced: (1600, 200)\n",
      "shape of Xtest_reduced: (400, 200)\n",
      "Shapes of y vectors: (1600, 1) , (400, 1)\n",
      "Test Accuracy: 0.777\n",
      "\n",
      "\n",
      "Model: \"sequential_10\"\n",
      "_________________________________________________________________\n",
      "Layer (type)                 Output Shape              Param #   \n",
      "=================================================================\n",
      "dense_46 (Dense)             (None, 40)                8040      \n",
      "_________________________________________________________________\n",
      "dense_47 (Dense)             (None, 20)                820       \n",
      "_________________________________________________________________\n",
      "dense_48 (Dense)             (None, 10)                210       \n",
      "_________________________________________________________________\n",
      "dense_49 (Dense)             (None, 5)                 55        \n",
      "_________________________________________________________________\n",
      "dense_50 (Dense)             (None, 1)                 6         \n",
      "=================================================================\n",
      "Total params: 9,131\n",
      "Trainable params: 9,131\n",
      "Non-trainable params: 0\n",
      "_________________________________________________________________\n",
      "\n",
      "\n",
      "\n"
     ]
    }
   ],
   "source": [
    "# I'm going to use PCA transform on the data for training and analysis!\n",
    "\n",
    "# From above the available variables are:\n",
    "# (1) Xtrain\n",
    "# (2) ytrain\n",
    "# (3) Xtest\n",
    "# (4) ytest\n",
    "\n",
    "# DATA PREP - will have to be repeated in the pet_classifier() function\n",
    "\n",
    "k = 200\n",
    "\n",
    "mu_train = np.mean(Xtrain, axis=0)\n",
    "mu_test = np.mean(Xtest, axis=0)\n",
    "\n",
    "Xtrain_cent = Xtrain - mu_train\n",
    "Xtest_cent = Xtest - mu_train  # HMMMM how do I pass mu_train to the pet_classifier function?\n",
    "\n",
    "pcaXtrain = pca(Xtrain)\n",
    "Vk = pcaXtrain[0:k,:].T          # actual data can be rows, but Vk needs to be columns\n",
    "\n",
    "Xtrain_reduced = Xtrain_cent @ Vk\n",
    "Xtest_reduced = Xtest_cent @ Vk\n",
    "\n",
    "for row in range(ytrain.shape[0]):\n",
    "    if (ytrain[row,0] == -1):\n",
    "        ytrain[row,0] = 0\n",
    "    # else:\n",
    "    #     ytrain[row,0] = 1\n",
    "\n",
    "print(ytrain[0:10,0])\n",
    "\n",
    "for row in range(ytest.shape[0]):\n",
    "    if (ytest[row,0] == -1):\n",
    "        ytest[row,0] = 0\n",
    "    # else:\n",
    "    #     ytrain[row,0] = 1\n",
    "\n",
    "print(\"shape of Xtrain_reduced: {}\".format(Xtrain_reduced.shape))\n",
    "print(\"shape of Xtest_reduced: {}\".format(Xtest_reduced.shape))\n",
    "print(\"Shapes of y vectors: {} , {}\".format(ytrain.shape, ytest.shape))\n",
    "\n",
    "# DEFINING, COMPILING, FITTING, AND EVALUATING THE MODEL\n",
    "\n",
    "# num_features = Xtrain.shape[1]\n",
    "\n",
    "model = Sequential()\n",
    "# NOTE: number of features should always be k\n",
    "model.add(Dense(40, activation='relu', kernel_initializer='he_normal', input_shape=(k,)))\n",
    "model.add(Dense(20, activation='relu', kernel_initializer='he_normal'))\n",
    "# model.add(Dropout(0.5))\n",
    "model.add(Dense(10, activation='relu', kernel_initializer='he_normal'))\n",
    "model.add(Dense(5, activation='relu', kernel_initializer='he_normal'))\n",
    "model.add(Dense(1, activation='sigmoid'))\n",
    "\n",
    "sgd = SGD(learning_rate=0.00001, momentum=0.8)\n",
    "model.compile(optimizer=sgd, loss='binary_crossentropy', metrics=['accuracy'])\n",
    "\n",
    "# Made some random choices at this staage in particular:\n",
    "# epochs - (1) 100\n",
    "\n",
    "# batch_size - (1) 200\n",
    "\n",
    "history = model.fit(Xtrain_reduced, ytrain, epochs=50, batch_size=200, verbose=0, validation_split=0.2)\n",
    "# model.fit(Xtrain, ytrain, epochs=100, batch_size=200, verbose=2)\n",
    "\n",
    "loss, accuracy = model.evaluate(Xtest_reduced, ytest, verbose=0)\n",
    "# loss, accuracy = model.evaluate(Xtest, ytest, verbose=2)\n",
    "\n",
    "print(\"Test Accuracy: %.3f\\n\\n\" % accuracy)\n",
    "\n",
    "# display a summary of the model\n",
    "model.summary()\n",
    "# plot_model(model, 'model.png', show_shapes = True)\n",
    "\n",
    "print(\"\\n\\n\")"
   ]
  },
  {
   "cell_type": "code",
   "execution_count": 64,
   "id": "771de76e-bca8-45a7-b589-8b0bc8fa9fa9",
   "metadata": {},
   "outputs": [
    {
     "name": "stdout",
     "output_type": "stream",
     "text": [
      "dict_keys(['loss', 'accuracy', 'val_loss', 'val_accuracy'])\n"
     ]
    },
    {
     "data": {
      "image/png": "[encoded data removed]",
      "text/plain": [
       "<Figure size 432x288 with 1 Axes>"
      ]
     },
     "metadata": {
      "needs_background": "light"
     },
     "output_type": "display_data"
    }
   ],
   "source": [
    "# PLOTTING THE MODEL\n",
    "print(history.history.keys())\n",
    "\n",
    "plt.title(\"Learning Curves\")\n",
    "plt.xlabel(\"Epoch\")\n",
    "plt.ylabel(\"Cross Entropy\")\n",
    "plt.plot(history.history['loss'], label = \"train\")\n",
    "plt.plot(history.history['val_loss'], label = 'val')\n",
    "plt.legend()\n",
    "plt.show()"
   ]
  },
  {
   "cell_type": "markdown",
   "id": "cfc24a90-a5f6-40ec-b692-49f04bdf0db3",
   "metadata": {},
   "source": [
    "### Using the model and testing it on other data"
   ]
  },
  {
   "cell_type": "code",
   "execution_count": 65,
   "id": "e3bd73af-f41a-4c78-9e9d-24f946a087e4",
   "metadata": {},
   "outputs": [
    {
     "name": "stdout",
     "output_type": "stream",
     "text": [
      "Shape of yhat2 is (400, 1)\n",
      "Shape of yhat is (400, 1)\n",
      "Shape of ytest is (400, 1)\n",
      "Guess\tActual\n",
      "0.00\t0.00\n",
      "0.00\t1.00\n",
      "0.00\t1.00\n",
      "0.00\t1.00\n",
      "1.00\t1.00\n",
      "1.00\t0.00\n",
      "1.00\t1.00\n",
      "0.00\t1.00\n",
      "1.00\t1.00\n",
      "1.00\t0.00\n",
      "Error rate was 22.25\n"
     ]
    }
   ],
   "source": [
    "# GETTING DATA SOME STRUCTURES PREPARED\n",
    "\n",
    "# From above we have a small amount of testing data available\n",
    "# (1) Xtest\n",
    "# (2) ytest\n",
    "\n",
    "# create \"yguess\" for the testing data\n",
    "# yguess = np.zeros(ytest.shape[0])\n",
    "# print(\"Shape of ytest is {}\".format(ytest.shape))\n",
    "\n",
    "yhat = model.predict(Xtest_reduced)\n",
    "yhat2 = np.array([np.zeros(yhat.shape[0])]).T\n",
    "print(\"Shape of yhat2 is {}\".format(yhat2.shape))\n",
    "\n",
    "for j in range(yhat.shape[0]):\n",
    "    if (yhat[j,0] >= 0.5):\n",
    "        yhat2[j,0] = 1.0\n",
    "    else:\n",
    "        yhat2[j,0] = 0.0\n",
    "\n",
    "print(\"Shape of yhat is {}\".format(yhat.shape))\n",
    "print(\"Shape of ytest is {}\".format(ytest.shape))\n",
    "\n",
    "print(\"Guess\\tActual\")\n",
    "for i in range(10):\n",
    "    print(\"{:.2f}\\t{:.2f}\".format(yhat2[i,0], ytest[i,0]))\n",
    "\n",
    "error = error_rate(ytest, yhat2)\n",
    "print(\"Error rate was {:.2f}\".format(error))"
   ]
  },
  {
   "cell_type": "markdown",
   "id": "eaa232df-0f31-4ac4-98b4-3ccf86e03863",
   "metadata": {},
   "source": [
    "## THINGS THAT NEED TO BE SAVED AND LOADED IN A NEW SCRIPT\n",
    "\n",
    "* The model\n",
    "* Vk - for transforming data\n",
    "* mu_vector - a vector containing the average image ... for transforming the data\n",
    "* a testing row --> Xtrain[381,:]"
   ]
  },
  {
   "cell_type": "code",
   "execution_count": 72,
   "id": "4f6ac262-6a29-4fff-bb5a-c941f9344929",
   "metadata": {},
   "outputs": [
    {
     "name": "stdout",
     "output_type": "stream",
     "text": [
      "[170. 176. 166. ... 105. 101. 103.]\n",
      "(4096,)\n",
      "(4096,)\n",
      "(4096, 200)\n"
     ]
    }
   ],
   "source": [
    "print(Xtrain[381,:])\n",
    "print(Xtrain[381,:].shape)\n",
    "\n",
    "# for n in range(4096):\n",
    "#     print(\"{}, \".format(Xtrain[381,n]))\n",
    "\n",
    "mu = np.mean(X, axis=0)\n",
    "print(mu.shape)\n",
    "print(Vk.shape)"
   ]
  },
  {
   "cell_type": "code",
   "execution_count": 74,
   "id": "28b863af-9bd4-455d-8dce-bd2c5b98bff1",
   "metadata": {},
   "outputs": [],
   "source": [
    "model.save(\"petclassifier.h5\")\n",
    "\n",
    "with open('eigmat.npy', 'wb') as eigenvecs:\n",
    "    np.save(eigenvecs, Vk)\n",
    "\n",
    "with open('xsample.npy', 'wb') as xdemo:\n",
    "    np.save(xdemo, Xtrain[381,:])\n",
    "\n",
    "with open('muX.npy', 'wb') as avg:\n",
    "    np.save(avg, mu)"
   ]
  }
 ],
 "metadata": {
  "kernelspec": {
   "display_name": "Python 3",
   "language": "python",
   "name": "python3"
  },
  "language_info": {
   "codemirror_mode": {
    "name": "ipython",
    "version": 3
   },
   "file_extension": ".py",
   "mimetype": "text/x-python",
   "name": "python",
   "nbconvert_exporter": "python",
   "pygments_lexer": "ipython3",
   "version": "3.7.11"
  }
 },
 "nbformat": 4,
 "nbformat_minor": 5
}
