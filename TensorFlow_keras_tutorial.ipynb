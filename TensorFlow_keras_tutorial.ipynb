{
 "cells": [
  {
   "cell_type": "markdown",
   "id": "c08ac168-64d1-4347-a468-066e8912424a",
   "metadata": {
    "tags": []
   },
   "source": [
    "# Parker Dunn\n",
    "## Learning TensorFlow to try image classification\n",
    "## Related to EK381 - HW10\n",
    "## December 2, 2021\n",
    "### Following a tutorial from [Machine Learning Mastery](https://machinelearningmastery.com/tensorflow-tutorial-deep-learning-with-tf-keras/) by Jason Brownlee\n",
    "### Called \"TensorFlow 2 Tutorial: Get Started in Deep Learning with tf.keras\""
   ]
  },
  {
   "cell_type": "markdown",
   "id": "d582376d-f637-4473-b836-b7516165b3c8",
   "metadata": {},
   "source": [
    "### Sections\n",
    "1. Install TensorFlow and tf.keras\n",
    "2. Deep Learning Model Life-Cycle\n",
    "3. How to Develop Deep Learning Models\n",
    "4. How to Use Advanced Model Features\n",
    "5. How to Get Better Model Performance"
   ]
  },
  {
   "cell_type": "code",
   "execution_count": 4,
   "id": "0e0f5b19-7bfb-4e01-bb0b-1b120c4fbde0",
   "metadata": {},
   "outputs": [],
   "source": [
    "# Imports to get started\n",
    "\n",
    "# TENSOR FLOW IMPORTS\n",
    "#import tensorflow as tf\n",
    "from tensorflow.keras import Sequential\n",
    "from tensorflow.keras.layers import Dense\n",
    "\n",
    "# GENERAL IMPORTS\n",
    "import numpy as np\n",
    "import pandas as pd"
   ]
  },
  {
   "cell_type": "markdown",
   "id": "7e0fcf9c-4127-4e75-b245-540e2d20f517",
   "metadata": {},
   "source": [
    "# 2. Deep Learning Model Life-Cycle\n",
    "\n",
    "### 2.1 The 5-Step Model Life-Cycle"
   ]
  },
  {
   "cell_type": "code",
   "execution_count": 3,
   "id": "a063d189-3c98-4582-a172-59ce23e7e8d5",
   "metadata": {},
   "outputs": [],
   "source": [
    "# define the model\n",
    "\n",
    "# General: model = ... Sequential API or Functional API\n",
    "# ... more to come\n"
   ]
  },
  {
   "cell_type": "code",
   "execution_count": null,
   "id": "d5a891bd-1a65-4893-9963-c0433cba9c75",
   "metadata": {},
   "outputs": [],
   "source": [
    "# COMPILE THE MODEL\n",
    "\n",
    "# (1) select a loss function to optimize - e.g. MSE (i'm familiar with this so I'll probably start iwth this one)\n",
    "# (2) select algo to perform optimization - e.g. stochastic gradient descent or Adam\n",
    "#        --> might need to select performance metrics to track\n",
    "\n",
    "# setting up optimizer - CONFIG STEP"
   ]
  },
  {
   "cell_type": "markdown",
   "id": "ec91f29e-d0d5-484b-b698-5d5d7716c2a2",
   "metadata": {},
   "source": [
    "*Moved sample code to markdown cells*\n",
    "\n",
    "// could use string (e.g., 'sgd') or optimizer class for optimizer\n",
    "\n",
    "\n",
    "`opt = SDG(learning_rate = 0.01, momentum = 0.9)`  \n",
    "// NOTE: both values provided\n",
    "\n",
    "\n",
    "//might need to be: opt = tf.keras.optimizers.SGD\n",
    "\n",
    "`model.compile(optimizer=opt, loss='binary_crossentropy', metrics=['accurancy'])`"
   ]
  },
  {
   "cell_type": "markdown",
   "id": "578f44c8-71b3-485f-b18e-dfe0e0a4d9b3",
   "metadata": {},
   "source": [
    "Three most common loss functions are:\n",
    "* 'binary_crossentropy' --> (!) for binary classification\n",
    "* 'sparse_categorical_crossentropy' for multi-class classification\n",
    "* 'mse' (mean squared error) for regression\n",
    "\n",
    "### Terminology\n",
    "* \"epochs\" - loops through the training dataset\n",
    "* \"batch size\" - number of samples in an epoch used to estimate model error\n",
    "* \"verbose\" - output of the model during training\n",
    "    * = 0 -- produces no output while training a model\n",
    "    * = 2 -- simple report of model performance in each epoch\n",
    " "
   ]
  },
  {
   "cell_type": "code",
   "execution_count": null,
   "id": "66331195-1f7f-4ef6-ab5f-656316b6563f",
   "metadata": {},
   "outputs": [],
   "source": [
    "# FITTING THE MODEL - \"training CONFIG\"\n",
    "\n",
    "# specify epochs and batch size\n",
    "# \"training applies the chose optimization algo to minimize the chose loss func\n",
    "# model updated through backpropagation\n",
    "\n",
    "# Training process\n",
    "# - slow part of the process\n",
    "# - \"blocks\" (no return, no activity?) until process finished"
   ]
  },
  {
   "cell_type": "markdown",
   "id": "4918623e-f899-4014-90a9-50036258d7be",
   "metadata": {},
   "source": [
    "`model.fit(X, y, epochs=100, batch_size=32, verbose=2)`  \n",
    "// verbose is optional"
   ]
  },
  {
   "cell_type": "code",
   "execution_count": null,
   "id": "5c1cb577-a10d-459e-bdfb-196e00ae32c0",
   "metadata": {},
   "outputs": [],
   "source": [
    "# EVALUATE THE MODEL\n",
    "\n",
    "# must have separated dataset to use that wasn't part of training"
   ]
  },
  {
   "cell_type": "markdown",
   "id": "92683794-40f8-46fd-b493-05b19a137fc8",
   "metadata": {},
   "source": [
    "`loss = model.evaluate(X, y, verbose = 2)`"
   ]
  },
  {
   "cell_type": "code",
   "execution_count": null,
   "id": "e9a648ff-8a96-4c01-a683-f30f2f873ac8",
   "metadata": {},
   "outputs": [],
   "source": [
    "# MAKE A PREDICTION\n",
    "\n",
    "# Using the model how we intended!\n",
    "# \"simply call a function to make a prediction of a class label, probability, or numberical value\""
   ]
  },
  {
   "cell_type": "markdown",
   "id": "a6d85ca0-af55-4bf3-97f8-73d45db0d546",
   "metadata": {},
   "source": [
    "__NEXT: two main ways to use the tf.keras API: (1) sequential and (2) functional\n",
    "\n",
    "### 2.2 Sequential Model API (Simple)\n",
    "\n",
    "* Simplest version (recommended)\n",
    "* \"sequential\" because we define a `Sequential class` and add layers to the model one by one in a linear manner\n",
    "\n",
    "Assuming the following are imported:\n",
    "* `from tensorflow.keras import Sequential`\n",
    "* `from tensorflow.keras.layers import Dense`"
   ]
  },
  {
   "cell_type": "markdown",
   "id": "df668727-68c2-4d0b-bf00-08fa2608d2df",
   "metadata": {},
   "source": [
    "SAMPLE CODE:  \n",
    "`# define the model`  \n",
    "`model = Sequential()`  \n",
    "`model.add(Dense(10, input_shape=(8,)))`  \n",
    "`model.add(Dense(1))`"
   ]
  },
  {
   "cell_type": "markdown",
   "id": "c739e65c-f32c-4e28-9d06-b3d410e99b86",
   "metadata": {},
   "source": [
    "\"Note that the visible layer of the network is defined by the 'input_shape' argument on the first hidden layer.\"  \n",
    "__*MEANING:*__ The model expects the input for one sample to be a vector of eight numbers!\n",
    "\n",
    "Sequential API allows you to keep calling `model.add()` until all layers have been added.  \n",
    "\n",
    "\n",
    "EXAMPLE:  \n",
    "`# define the model`  \n",
    "`model = Sequential()`  \n",
    "`model.add(Dense(100, input_shape=(8,)))`  \n",
    "`model.add(Dense(80))`  \n",
    "`model.add(Dense(30))`  \n",
    "`model.add(Dense(10))`  \n",
    "`model.add(Dense(5))`  \n",
    "`model.add(Dense(1))`  "
   ]
  },
  {
   "cell_type": "markdown",
   "id": "fbc68450-705b-416f-a7dd-9d47141c6187",
   "metadata": {},
   "source": [
    "### 2.3 Functional Model API (Advanced)\n",
    "\n",
    "No notes here  \n",
    "I'm interested, but trying not to overcomplicate things for now"
   ]
  },
  {
   "cell_type": "markdown",
   "id": "d115554e-fe9d-418e-92e7-f2cdd37d3b8a",
   "metadata": {},
   "source": [
    "# 3. How to Develop Deep Learning Models\n",
    "\n",
    "* Section Summary: \"discover how to develop, evaluate, and make predictions with standard deep learning models\"\n",
    "\n",
    "* Standard deep learning models\n",
    "    1. Multilayer Perceptrons (MLP)\n",
    "    2. Convolutional Neural Networks (CNNs)\n",
    "    3. Recurrent Nural Networks (RNNs)\n",
    "\n",
    "\n",
    "* __NOTE__: THESE SECTIONS LOOK DENSE ... PROBABLY NOT GOING TO TRY TO COPY EVERYTHING! I WILL READ THROUGH THE SECTIONS AND ONLY TAKE NOTES WHEN I HAVE A BETTER IDEA WHAT I'LL BE DOING!"
   ]
  },
  {
   "cell_type": "markdown",
   "id": "974cd68f-0b3f-48f4-aa59-cb806695ded9",
   "metadata": {},
   "source": [
    "### 3.1 Develop Multilayer Perceptron Models\n",
    "\n",
    "#### MLP For Binary Classification\n",
    "\n",
    "* Tutorial uses `sklearn.model_selection.train_test_split` and `sklearn.preproccessing.LabelEncoder` which I thought was interesting\n",
    "\n",
    "#### MLP for Multiclass Classification\n",
    "\n",
    "#### MLP for Regression"
   ]
  },
  {
   "cell_type": "markdown",
   "id": "8f47a33a-f4ad-40c0-b189-65894d4ce56f",
   "metadata": {},
   "source": [
    "### 3.2 Develop Convolutional Neural Network Models\n",
    "\n",
    "* CNNs are designed for image input!\n",
    "* Comprised of models with convolutional layers & pooling layers that distill features down to the most salient elements\n",
    "* Convolutional layers:\n",
    "    * \"convolution\" - simple application of a filter to an input that results in activation\n",
    "    * repeated applicatoin (\"layers?\") of the same filter to an input results in a map of activations called a feature map\n",
    "    * feature maps indicate the locations and strength of a detected features in an input, such as an image\n"
   ]
  },
  {
   "cell_type": "markdown",
   "id": "af7360f5-eb32-4f3e-9b1c-8b9d36113a36",
   "metadata": {},
   "source": [
    "### 3.3 Develop Recurrent Neural Network Models\n",
    "\n",
    "* RNNs designed to operate on sequences of data\n",
    "    * successful with natural language processing (NLP)\n",
    "    * modest success for time series forecasting and speech recog.\n",
    "* \"Most popular type of RNN is the Long Short-Term Memory network (LTSM)\""
   ]
  }
 ],
 "metadata": {
  "kernelspec": {
   "display_name": "Python 3",
   "language": "python",
   "name": "python3"
  },
  "language_info": {
   "codemirror_mode": {
    "name": "ipython",
    "version": 3
   },
   "file_extension": ".py",
   "mimetype": "text/x-python",
   "name": "python",
   "nbconvert_exporter": "python",
   "pygments_lexer": "ipython3",
   "version": "3.7.11"
  }
 },
 "nbformat": 4,
 "nbformat_minor": 5
}
